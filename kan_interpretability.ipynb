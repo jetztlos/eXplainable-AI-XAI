{
 "cells": [
  {
   "cell_type": "markdown",
   "metadata": {
    "id": "g8slaWHzYzZQ"
   },
   "source": [
    "# XAI CODE DEMO\n",
    "\n",
    "## Explainable AI Specialization on Coursera"
   ]
  },
  {
   "cell_type": "markdown",
   "metadata": {},
   "source": [
    "If you experience high latency while running this notebook, you can open it in Google Colab:\n",
    "\n",
    "[![Open In Collab](https://colab.research.google.com/assets/colab-badge.svg)](https://colab.research.google.com/github/explainable-machine-learning/interpretable-ml/blob/main/kan_interpretability.ipynb)"
   ]
  },
  {
   "cell_type": "markdown",
   "metadata": {
    "id": "SAOyBcAPY32A"
   },
   "source": [
    "# Kolmogorov-Arnold Network (KAN)\n",
    "\n",
    "* Paper: [Liu,et.al., 2024](https://arxiv.org/pdf/2404.19756)\n",
    "* KANs have no linear weights at all – every weight parameter is replaced by a univariate function parametrized as a spline\n",
    "* KANs can be intuitively visualized and can easily interact with human users\n",
    "\n",
    "#### Training a KAN:\n",
    "1. Randomly initialize parameters of B-splines for each function in each layer\n",
    "2. Forward pass X through the network\n",
    "3. Calculate loss wrt ground truth\n",
    "4. Backpropagation\n",
    "5. Update B-spline parameters\n",
    "6. Repeat\n",
    "\n",
    "#### Code Demo\n",
    "The original paper authors released [pykan](https://kindxiaoming.github.io/pykan/index.html), a python library for KANs. This demo is based off of the documentation provided in the library, specifically [\"Getting Started with KANs\"](https://kindxiaoming.github.io/pykan/intro.html#get-started-with-kans)\n",
    "\n",
    "\n",
    "\n",
    "---\n",
    "\n",
    "\n",
    "\n",
    "\n"
   ]
  },
  {
   "cell_type": "raw",
   "metadata": {
    "colab": {
     "base_uri": "https://localhost:8080/"
    },
    "id": "pgV4snbaUhTb",
    "outputId": "f08a2b39-db1a-422c-c488-5f8bab54e152"
   },
   "source": [
    "!pip install pykan"
   ]
  },
  {
   "cell_type": "code",
   "execution_count": null,
   "metadata": {
    "id": "1_7ZfDhXUfPG"
   },
   "outputs": [],
   "source": [
    "from kan import *\n",
    "import torch"
   ]
  },
  {
   "cell_type": "markdown",
   "metadata": {
    "id": "wzwM3OUDaM-J"
   },
   "source": [
    "#### Initialize a KAN\n",
    "* width = [2, 3, 1] - 2D input, 1D output, 5 hidden neurons\n",
    "* k=3 - use cubic splines\n",
    "* grid=5 - use 5 grid intervals\n"
   ]
  },
  {
   "cell_type": "code",
   "execution_count": null,
   "metadata": {
    "id": "KGBSHembX2LY"
   },
   "outputs": [],
   "source": [
    "model = KAN(width=[2,5,1], grid=5, k=3, seed=0)"
   ]
  },
  {
   "cell_type": "markdown",
   "metadata": {
    "id": "sppztm9ianpU"
   },
   "source": [
    "#### We are going to create a dataset for this code demonstration.\n",
    "\n",
    "The output values (labels) are computed based on the function **f(x,y)**, providing a target for the KAN model to learn during training.\n",
    "\n",
    "**f(x,y) = exp(sin(pi*x)+y^2)**"
   ]
  },
  {
   "cell_type": "code",
   "execution_count": null,
   "metadata": {
    "colab": {
     "base_uri": "https://localhost:8080/"
    },
    "id": "MIXJSepRU5a_",
    "outputId": "11d14796-0ced-4042-a2fd-1eb1660ca006"
   },
   "outputs": [],
   "source": [
    "f = lambda x: torch.exp(torch.sin(torch.pi*x[:,[0]]) + x[:,[1]]**2)\n",
    "dataset = create_dataset(f, n_var=2)\n",
    "dataset['train_input'].shape, dataset['train_label'].shape"
   ]
  },
  {
   "cell_type": "markdown",
   "metadata": {
    "id": "0crmWZR5aws5"
   },
   "source": [
    "#### Plot KAN at initialization.\n",
    "This is what our KAN looks like before training. Note the 2D input (bottom), our 5 hidden neurons (middle), and our 1D output (top)"
   ]
  },
  {
   "cell_type": "code",
   "execution_count": null,
   "metadata": {
    "colab": {
     "base_uri": "https://localhost:8080/",
     "height": 345
    },
    "id": "G8p3v66uU6ll",
    "outputId": "0ee0efea-7384-497c-97cf-1c77336b8e74"
   },
   "outputs": [],
   "source": [
    "model(dataset['train_input']);\n",
    "model.plot(beta=100)"
   ]
  },
  {
   "cell_type": "markdown",
   "metadata": {
    "id": "6ANLqPpmbEOD"
   },
   "source": [
    "#### Train KAN\n",
    "\n",
    "Uses the LBFGS optimizer for 20 steps with sparsity regularization\n"
   ]
  },
  {
   "cell_type": "code",
   "execution_count": null,
   "metadata": {
    "colab": {
     "base_uri": "https://localhost:8080/"
    },
    "id": "PucYgstCU6qV",
    "outputId": "e2d0d5d0-6a8e-49ce-fb42-81197a5a4cb7"
   },
   "outputs": [],
   "source": [
    "model.fit(dataset, opt=\"LBFGS\", steps=20, lamb=0.01, lamb_entropy=10.);"
   ]
  },
  {
   "cell_type": "code",
   "execution_count": null,
   "metadata": {
    "colab": {
     "base_uri": "https://localhost:8080/",
     "height": 345
    },
    "id": "UXIlBxe0VGY4",
    "outputId": "854a346f-7392-45d0-9461-1c6dc6182cd6"
   },
   "outputs": [],
   "source": [
    "model.plot()"
   ]
  },
  {
   "cell_type": "markdown",
   "metadata": {
    "id": "ubp7t-rjbU4a"
   },
   "source": [
    "#### Prune KAN and replot (keep original shape)"
   ]
  },
  {
   "cell_type": "code",
   "execution_count": null,
   "metadata": {
    "colab": {
     "base_uri": "https://localhost:8080/",
     "height": 345
    },
    "id": "JSUXxN2tVIhi",
    "outputId": "59ce3eb6-6d90-4835-f0a8-6617311cccb1"
   },
   "outputs": [],
   "source": [
    "model.prune()\n",
    "model.plot()"
   ]
  },
  {
   "cell_type": "markdown",
   "metadata": {
    "id": "vVciEg9lbZlR"
   },
   "source": [
    "#### Prune KAN and replot (get a smaller shape)"
   ]
  },
  {
   "cell_type": "code",
   "execution_count": null,
   "metadata": {
    "colab": {
     "base_uri": "https://localhost:8080/",
     "height": 345
    },
    "id": "8kYE4_AsVJHt",
    "outputId": "24b34321-dc00-448e-cbcf-21bfcb9c9c38"
   },
   "outputs": [],
   "source": [
    "model = model.prune()\n",
    "model(dataset['train_input'])\n",
    "model.plot()"
   ]
  },
  {
   "cell_type": "markdown",
   "metadata": {
    "id": "GSBBkxdtbh7z"
   },
   "source": [
    "#### Continue training\n",
    "Remember that KAN allows us to do continual training!\n",
    "\n",
    "*Question: How have the splines changed after further training?*"
   ]
  },
  {
   "cell_type": "code",
   "execution_count": null,
   "metadata": {
    "colab": {
     "base_uri": "https://localhost:8080/"
    },
    "id": "5ZYsNt07VMpB",
    "outputId": "3f79e759-322d-4574-fb40-30e977bf9e66"
   },
   "outputs": [],
   "source": [
    "model.fit(dataset, opt=\"LBFGS\", steps=50);"
   ]
  },
  {
   "cell_type": "code",
   "execution_count": null,
   "metadata": {
    "colab": {
     "base_uri": "https://localhost:8080/",
     "height": 345
    },
    "id": "En2A2P_2VPCP",
    "outputId": "aab8c134-4654-47fc-a4bc-5637cd4e88bc"
   },
   "outputs": [],
   "source": [
    "model.plot()"
   ]
  },
  {
   "cell_type": "markdown",
   "metadata": {
    "id": "v2qfHbsobzyx"
   },
   "source": [
    "#### Set activation functions to be symbolic\n",
    "\n",
    "We can either do this manually or automatically using the pykan library\n",
    "\n",
    "*Try it yourself: try manual mode. How do the outputs differ from using the automated tooling?*"
   ]
  },
  {
   "cell_type": "code",
   "execution_count": null,
   "metadata": {
    "colab": {
     "base_uri": "https://localhost:8080/"
    },
    "id": "b7_-dM_8VPEl",
    "outputId": "00326904-73df-432d-e4e7-da3f6fab2973"
   },
   "outputs": [],
   "source": [
    "mode = \"auto\" # \"manual\"\n",
    "\n",
    "if mode == \"manual\":\n",
    "    # manual mode\n",
    "    model.fix_symbolic(0,0,0,'sin');\n",
    "    model.fix_symbolic(0,1,0,'x^2');\n",
    "    model.fix_symbolic(1,0,0,'exp');\n",
    "elif mode == \"auto\":\n",
    "    # automatic mode\n",
    "    lib = ['x','x^2','x^3','x^4','exp','log','sqrt','tanh','sin','abs']\n",
    "    model.auto_symbolic(lib=lib)"
   ]
  },
  {
   "cell_type": "markdown",
   "metadata": {
    "id": "9-nrwx5bcIvt"
   },
   "source": [
    "#### Keep training!"
   ]
  },
  {
   "cell_type": "code",
   "execution_count": null,
   "metadata": {
    "colab": {
     "base_uri": "https://localhost:8080/"
    },
    "id": "X3Jxf_QjVSCS",
    "outputId": "006ab58a-446e-47ef-e896-3a91807cb218"
   },
   "outputs": [],
   "source": [
    "model.fit(dataset, opt=\"LBFGS\", steps=50);"
   ]
  },
  {
   "cell_type": "markdown",
   "metadata": {
    "id": "A9XRTpbZcMJL"
   },
   "source": [
    "#### Get the symbolic formula"
   ]
  },
  {
   "cell_type": "code",
   "execution_count": null,
   "metadata": {
    "colab": {
     "base_uri": "https://localhost:8080/",
     "height": 41
    },
    "id": "m64y13rSVSJc",
    "outputId": "88a2ad37-e35d-4758-fdd0-fe0f9399307a"
   },
   "outputs": [],
   "source": [
    "model.symbolic_formula()[0][0]"
   ]
  },
  {
   "cell_type": "code",
   "execution_count": null,
   "metadata": {},
   "outputs": [],
   "source": []
  }
 ],
 "metadata": {
  "colab": {
   "machine_shape": "hm",
   "provenance": []
  },
  "kernelspec": {
   "display_name": "Python 3 (ipykernel)",
   "language": "python",
   "name": "python3"
  },
  "language_info": {
   "codemirror_mode": {
    "name": "ipython",
    "version": 3
   },
   "file_extension": ".py",
   "mimetype": "text/x-python",
   "name": "python",
   "nbconvert_exporter": "python",
   "pygments_lexer": "ipython3",
   "version": "3.10.6"
  }
 },
 "nbformat": 4,
 "nbformat_minor": 1
}
